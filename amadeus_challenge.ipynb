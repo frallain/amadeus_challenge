{
 "cells": [
  {
   "cell_type": "markdown",
   "metadata": {},
   "source": [
    "# Amadeus challenge"
   ]
  },
  {
   "cell_type": "code",
   "execution_count": 1,
   "metadata": {
    "collapsed": false
   },
   "outputs": [
    {
     "data": {
      "text/plain": [
       "u'/home/frallain/workspace/amadeusChallenge'"
      ]
     },
     "execution_count": 1,
     "metadata": {},
     "output_type": "execute_result"
    }
   ],
   "source": [
    "pwd"
   ]
  },
  {
   "cell_type": "code",
   "execution_count": null,
   "metadata": {
    "collapsed": true
   },
   "outputs": [],
   "source": [
    "import sys\n",
    "import csv\n",
    "import datetime as dt\n",
    "import sqlite3\n",
    "# import numpy as np\n",
    "\n",
    "import matplotlib.pyplot as plt\n",
    "plt.style.use('ggplot')\n",
    "# from matplotlib import rc\n",
    "# rc('font', size=6)\n",
    "\n",
    "import pandas as pd\n",
    "# pd.set_option('display.max_columns', None)\n",
    "# pd.set_option('display.max_rows', None)\n",
    "\n",
    "from GeoBases import GeoBase\n",
    "\n"
   ]
  },
  {
   "cell_type": "markdown",
   "metadata": {},
   "source": [
    "## First exercise : count the number of lines in Python for each file"
   ]
  },
  {
   "cell_type": "code",
   "execution_count": null,
   "metadata": {
    "collapsed": true
   },
   "outputs": [],
   "source": [
    "with open('bookings.csv') as f:\n",
    "    for i,line in enumerate(f):\n",
    "        pass\n",
    "print(i+1)\n",
    "with open('searches.csv') as f:\n",
    "    for i,line in enumerate(f):\n",
    "        pass\n",
    "print(i+1)"
   ]
  },
  {
   "cell_type": "markdown",
   "metadata": {},
   "source": [
    "## Second exercise : top 10 arrival airports in the world in 2013 (using the bookings file)\n",
    "\n",
    "Arrival airport is the column arr_port. It is the IATA code for the airport\n",
    "\n",
    "To get the total number of passengers for an airport, you can sum the column pax, \n",
    "grouping by arr_port. Note that there is negative pax. That corresponds to cancelations. \n",
    "So to get the total number of passengers that have actually booked, \n",
    "you should sum including the negatives (that will remove the cancelled bookings).\n",
    "\n",
    "Print the top 10 arrival airports in the standard output, including the number of passengers.\n",
    "\n",
    "Bonus point: Get the name of the city or airport corresponding to that airport (programatically, we suggest to have a look at GeoBases in Github)\n",
    "\n",
    "Bonus point: Solve this problem using pandas (instead of any other approach)"
   ]
  },
  {
   "cell_type": "code",
   "execution_count": null,
   "metadata": {
    "collapsed": true
   },
   "outputs": [],
   "source": [
    "bookings = pd.read_csv('bookings.csv', sep='^')\n",
    "bookings.columns = bookings.columns.str.strip()\n",
    "\n",
    "bookings.pax.hist()\n",
    "plt.yscale('log')\n",
    "\n",
    "answer2 = pd.DataFrame( bookings.groupby('arr_port')['pax'].sum() )\n",
    "\n",
    "# Just to check that there is a difference of 10 between +1 and -1 bookings\n",
    "bookings[bookings.arr_port=='ZSE']['pax'].hist()\n",
    "\n",
    "# sudo pip install geobases\n",
    "# geo_a = GeoBase(data='airports', verbose=False)\n",
    "geo_o = GeoBase(data='ori_por', verbose=False)\n",
    "answer2['Name'] = answer2.apply(lambda x: geo_o.get(x.arr_port) )\n",
    "iata2city = {}\n",
    "for iata in answer2.index:\n",
    "    try:\n",
    "        iata2city[iata] = geo_o.get(iata)['name']\n",
    "    except KeyError:\n",
    "        pass\n",
    "answer2['Name'] = answer2.index.map(lambda x: iata2city.get(x,'') )\n",
    "answer2.sort_values(by='pax',ascending=False, inplace=True)\n",
    "answer2[:10]\n"
   ]
  },
  {
   "cell_type": "markdown",
   "metadata": {},
   "source": [
    "## Third exercise: plot the monthly number of searches for flights arriving at Málaga, Madrid or Barcelona\n",
    "\n",
    "For the arriving airport, you can use the Destination column in the searches file. \n",
    "Plot a curve for Málaga, another one for Madrid, and another one for Barcelona, \n",
    "in the same figure.\n",
    "\n",
    "Bonus point: Solving this problem using pandas (instead of any other approach)"
   ]
  },
  {
   "cell_type": "code",
   "execution_count": null,
   "metadata": {
    "collapsed": true
   },
   "outputs": [],
   "source": []
  },
  {
   "cell_type": "markdown",
   "metadata": {},
   "source": [
    "## Fourth exercise: match searches with bookings\n",
    "\n",
    "For every search in the searches file, find out whether the search ended up in a booking or not \n",
    "(using the info in the bookings file). For instance, search and booking origin and destination \n",
    "should match. \n",
    "For the bookings file, origin and destination are the columns dep_port and arr_port, respectively. \n",
    "Generate a CSV file with the search data, and an additional field, containing 1 if the search \n",
    "ended up in a booking, and 0 otherwise.\n",
    "\n",
    "Bonus point: Solving this problem using pandas (instead of any other approach)"
   ]
  },
  {
   "cell_type": "code",
   "execution_count": null,
   "metadata": {
    "collapsed": true
   },
   "outputs": [],
   "source": []
  },
  {
   "cell_type": "markdown",
   "metadata": {},
   "source": [
    "## Bonus exercise: write a Web Service\n",
    "\n",
    "Wrap the output of the second exercise in a web service that returns the data in JSON format (instead of printing to the standard output). The web service should accept a parameter n>0. For the top 10 airports, n is 10. For the X top airports, n is X.”\n"
   ]
  }
 ],
 "metadata": {
  "kernelspec": {
   "display_name": "Python 2",
   "language": "python",
   "name": "python2"
  },
  "language_info": {
   "codemirror_mode": {
    "name": "ipython",
    "version": 2
   },
   "file_extension": ".py",
   "mimetype": "text/x-python",
   "name": "python",
   "nbconvert_exporter": "python",
   "pygments_lexer": "ipython2",
   "version": "2.7.6"
  }
 },
 "nbformat": 4,
 "nbformat_minor": 0
}
