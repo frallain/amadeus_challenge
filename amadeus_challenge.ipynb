{
 "cells": [
  {
   "cell_type": "markdown",
   "metadata": {},
   "source": [
    "# Amadeus challenge"
   ]
  },
  {
   "cell_type": "code",
   "execution_count": 4,
   "metadata": {
    "collapsed": false
   },
   "outputs": [
    {
     "data": {
      "text/plain": [
       "u'/home/frallain/workspace/amadeus_challenge'"
      ]
     },
     "execution_count": 4,
     "metadata": {},
     "output_type": "execute_result"
    }
   ],
   "source": [
    "pwd"
   ]
  },
  {
   "cell_type": "code",
   "execution_count": 5,
   "metadata": {
    "collapsed": true
   },
   "outputs": [],
   "source": [
    "%matplotlib inline\n",
    "\n",
    "import matplotlib\n",
    "import numpy as np\n",
    "import matplotlib.pyplot as plt\n",
    "plt.style.use('ggplot')\n",
    "import pandas as pd\n",
    "\n",
    "import sys\n",
    "import csv\n",
    "import datetime as dt\n",
    "\n",
    "\n",
    "\n",
    "from GeoBases import GeoBase\n",
    "\n"
   ]
  },
  {
   "cell_type": "markdown",
   "metadata": {},
   "source": [
    "## First exercise : count the number of lines in Python for each file"
   ]
  },
  {
   "cell_type": "code",
   "execution_count": 6,
   "metadata": {
    "collapsed": false
   },
   "outputs": [
    {
     "name": "stdout",
     "output_type": "stream",
     "text": [
      "10000011\n"
     ]
    }
   ],
   "source": [
    "with open('bookings.csv') as f:\n",
    "    for i,line in enumerate(f):\n",
    "        pass\n",
    "print(i+1)"
   ]
  },
  {
   "cell_type": "code",
   "execution_count": 7,
   "metadata": {
    "collapsed": false
   },
   "outputs": [
    {
     "name": "stdout",
     "output_type": "stream",
     "text": [
      "20390199\n"
     ]
    }
   ],
   "source": [
    "with open('searches.csv') as f:\n",
    "    for i,line in enumerate(f):\n",
    "        pass\n",
    "print(i+1)"
   ]
  },
  {
   "cell_type": "markdown",
   "metadata": {},
   "source": [
    "## Second exercise : top 10 arrival airports in the world in 2013 (using the bookings file)\n",
    "\n",
    "Arrival airport is the column arr_port. It is the IATA code for the airport\n",
    "\n",
    "To get the total number of passengers for an airport, you can sum the column pax, \n",
    "grouping by arr_port. Note that there is negative pax. That corresponds to cancelations. \n",
    "So to get the total number of passengers that have actually booked, \n",
    "you should sum including the negatives (that will remove the cancelled bookings).\n",
    "\n",
    "Print the top 10 arrival airports in the standard output, including the number of passengers.\n",
    "\n",
    "Bonus point: Get the name of the city or airport corresponding to that airport (programatically, we suggest to have a look at GeoBases in Github)\n",
    "\n",
    "Bonus point: Solve this problem using pandas (instead of any other approach)"
   ]
  },
  {
   "cell_type": "code",
   "execution_count": 8,
   "metadata": {
    "collapsed": true
   },
   "outputs": [],
   "source": [
    "# loading only the relevant columns\n",
    "bookings = pd.read_csv('bookings.csv', sep='^', usecols=('arr_port','pax'))\n",
    "bookings.columns = bookings.columns.str.strip()\n",
    "bookings['arr_port'] = bookings['arr_port'].str.strip()"
   ]
  },
  {
   "cell_type": "code",
   "execution_count": 9,
   "metadata": {
    "collapsed": false
   },
   "outputs": [
    {
     "data": {
      "text/plain": [
       "<matplotlib.text.Text at 0x7f56e982efd0>"
      ]
     },
     "execution_count": 9,
     "metadata": {},
     "output_type": "execute_result"
    },
    {
     "data": {
      "image/png": "[encoded data removed]",
      "text/plain": [
       "<matplotlib.figure.Figure at 0x7f570c0a6090>"
      ]
     },
     "metadata": {},
     "output_type": "display_data"
    }
   ],
   "source": [
    "bookings.pax.hist()\n",
    "plt.yscale('log')\n",
    "plt.xlabel('pax variable')\n",
    "plt.ylabel('Count')"
   ]
  },
  {
   "cell_type": "code",
   "execution_count": 12,
   "metadata": {
    "collapsed": false
   },
   "outputs": [
    {
     "data": {
      "text/plain": [
       "10.0"
      ]
     },
     "execution_count": 12,
     "metadata": {},
     "output_type": "execute_result"
    }
   ],
   "source": [
    "answer2 = pd.DataFrame( bookings.groupby('arr_port')['pax'].sum() )\n",
    "\n",
    "sum(bookings[bookings.arr_port=='ZSE']['pax'])"
   ]
  },
  {
   "cell_type": "code",
   "execution_count": 10,
   "metadata": {
    "collapsed": false
   },
   "outputs": [
    {
     "data": {
      "text/plain": [
       "<matplotlib.text.Text at 0x7f56db110550>"
      ]
     },
     "execution_count": 10,
     "metadata": {},
     "output_type": "execute_result"
    },
    {
     "data": {
      "image/png": "[encoded data removed]",
      "text/plain": [
       "<matplotlib.figure.Figure at 0x7f56e9884390>"
      ]
     },
     "metadata": {},
     "output_type": "display_data"
    }
   ],
   "source": [
    "# Just to check that there is a difference of 10 between +1 and -1 bookings\n",
    "bookings[bookings.arr_port=='ZSE']['pax'].hist()\n",
    "plt.xlabel('pax variable for ZSE airport')\n",
    "plt.ylabel('Count')"
   ]
  },
  {
   "cell_type": "code",
   "execution_count": 11,
   "metadata": {
    "collapsed": false
   },
   "outputs": [
    {
     "data": {
      "text/html": [
       "<div>\n",
       "<table border=\"1\" class=\"dataframe\">\n",
       "  <thead>\n",
       "    <tr style=\"text-align: right;\">\n",
       "      <th></th>\n",
       "      <th>pax</th>\n",
       "      <th>Name</th>\n",
       "    </tr>\n",
       "    <tr>\n",
       "      <th>arr_port</th>\n",
       "      <th></th>\n",
       "      <th></th>\n",
       "    </tr>\n",
       "  </thead>\n",
       "  <tbody>\n",
       "    <tr>\n",
       "      <th>LHR</th>\n",
       "      <td>88809</td>\n",
       "      <td>London Heathrow Airport</td>\n",
       "    </tr>\n",
       "    <tr>\n",
       "      <th>MCO</th>\n",
       "      <td>70930</td>\n",
       "      <td>Orlando International Airport</td>\n",
       "    </tr>\n",
       "    <tr>\n",
       "      <th>LAX</th>\n",
       "      <td>70530</td>\n",
       "      <td>Los Angeles International Airport</td>\n",
       "    </tr>\n",
       "    <tr>\n",
       "      <th>LAS</th>\n",
       "      <td>69630</td>\n",
       "      <td>Mc Carran International Airport</td>\n",
       "    </tr>\n",
       "    <tr>\n",
       "      <th>JFK</th>\n",
       "      <td>66270</td>\n",
       "      <td>John F Kennedy International Airport</td>\n",
       "    </tr>\n",
       "    <tr>\n",
       "      <th>CDG</th>\n",
       "      <td>64490</td>\n",
       "      <td>Paris - Charles-de-Gaulle</td>\n",
       "    </tr>\n",
       "    <tr>\n",
       "      <th>BKK</th>\n",
       "      <td>59460</td>\n",
       "      <td>Suvarnabhumi</td>\n",
       "    </tr>\n",
       "    <tr>\n",
       "      <th>MIA</th>\n",
       "      <td>58150</td>\n",
       "      <td>Miami International Airport</td>\n",
       "    </tr>\n",
       "    <tr>\n",
       "      <th>SFO</th>\n",
       "      <td>58000</td>\n",
       "      <td>San Francisco International Airport</td>\n",
       "    </tr>\n",
       "    <tr>\n",
       "      <th>DXB</th>\n",
       "      <td>55590</td>\n",
       "      <td>Dubai International Airport</td>\n",
       "    </tr>\n",
       "  </tbody>\n",
       "</table>\n",
       "</div>"
      ],
      "text/plain": [
       "            pax                                  Name\n",
       "arr_port                                             \n",
       "LHR       88809               London Heathrow Airport\n",
       "MCO       70930         Orlando International Airport\n",
       "LAX       70530     Los Angeles International Airport\n",
       "LAS       69630       Mc Carran International Airport\n",
       "JFK       66270  John F Kennedy International Airport\n",
       "CDG       64490             Paris - Charles-de-Gaulle\n",
       "BKK       59460                          Suvarnabhumi\n",
       "MIA       58150           Miami International Airport\n",
       "SFO       58000   San Francisco International Airport\n",
       "DXB       55590           Dubai International Airport"
      ]
     },
     "execution_count": 11,
     "metadata": {},
     "output_type": "execute_result"
    }
   ],
   "source": [
    "# sudo pip install geobases\n",
    "geo_o = GeoBase(data='ori_por', verbose=False)\n",
    "iata2city = {}\n",
    "for iata in answer2.index:\n",
    "    try:\n",
    "        iata2city[iata] = geo_o.get(iata)['name']\n",
    "    except KeyError:\n",
    "        pass\n",
    "answer2['Name'] = answer2.index.map(lambda x: iata2city.get(x,'') )\n",
    "answer2.sort_values(by='pax',ascending=False, inplace=True)\n",
    "answer2[:10]"
   ]
  },
  {
   "cell_type": "markdown",
   "metadata": {},
   "source": [
    "## Third exercise: plot the monthly number of searches for flights arriving at Málaga, Madrid or Barcelona\n",
    "\n",
    "For the arriving airport, you can use the Destination column in the searches file. \n",
    "Plot a curve for Málaga, another one for Madrid, and another one for Barcelona, \n",
    "in the same figure.\n",
    "\n",
    "Bonus point: Solving this problem using pandas (instead of any other approach)"
   ]
  },
  {
   "cell_type": "code",
   "execution_count": null,
   "metadata": {
    "collapsed": true
   },
   "outputs": [],
   "source": [
    "# loading only the relevant columns\n",
    "searches = pd.read_csv('searches.csv', sep='^', usecols=('Date','Destination'))"
   ]
  },
  {
   "cell_type": "code",
   "execution_count": 21,
   "metadata": {
    "collapsed": false
   },
   "outputs": [
    {
     "data": {
      "text/plain": [
       "[(1.0, 'AGP@1'), (0.9, 'AGP')]"
      ]
     },
     "execution_count": 21,
     "metadata": {},
     "output_type": "execute_result"
    }
   ],
   "source": [
    "# filtering data by keeping data only for Málaga, Madrid and Barcelona airports \n",
    "\n",
    "geo_o = GeoBase(data='ori_por', verbose=False)\n",
    "malaga_iatas = geo_o.fuzzyFind('Málaga', 'name')\n",
    "malaga_iatas"
   ]
  },
  {
   "cell_type": "code",
   "execution_count": 24,
   "metadata": {
    "collapsed": false
   },
   "outputs": [
    {
     "data": {
      "text/plain": [
       "[(1.0, 'MAD@1'),\n",
       " (0.9, 'XTI'),\n",
       " (0.9, 'XOC'),\n",
       " (0.9, 'TOJ'),\n",
       " (0.9, 'MAD'),\n",
       " (0.7692307692307693, 'IXM@1')]"
      ]
     },
     "execution_count": 24,
     "metadata": {},
     "output_type": "execute_result"
    }
   ],
   "source": [
    "madrid_iatas = geo_o.fuzzyFind('Madrid', 'name')\n",
    "madrid_iatas"
   ]
  },
  {
   "cell_type": "code",
   "execution_count": 23,
   "metadata": {
    "collapsed": false
   },
   "outputs": [
    {
     "data": {
      "text/plain": [
       "[(1.0, 'BLA@1'),\n",
       " (1.0, 'BCN@1'),\n",
       " (0.9, 'YJD'),\n",
       " (0.9, 'YJB'),\n",
       " (0.9, 'XJB'),\n",
       " (0.8235294117647058, 'BAZ@1'),\n",
       " (0.7777777777777778, 'QAK@1'),\n",
       " (0.7777777777777778, 'QAK'),\n",
       " (0.75, 'BCA@1')]"
      ]
     },
     "execution_count": 23,
     "metadata": {},
     "output_type": "execute_result"
    }
   ],
   "source": [
    "barcelona_iatas = geo_o.fuzzyFind('Barcelona', 'name')\n",
    "barcelona_iatas"
   ]
  },
  {
   "cell_type": "code",
   "execution_count": null,
   "metadata": {
    "collapsed": true
   },
   "outputs": [],
   "source": [
    "dests = searches.Destination.unique()"
   ]
  },
  {
   "cell_type": "code",
   "execution_count": 27,
   "metadata": {
    "collapsed": false,
    "scrolled": false
   },
   "outputs": [
    {
     "data": {
      "text/plain": [
       "{'Barcelona': ['BLA@1', 'BCN@1', 'YJD', 'YJB', 'XJB'],\n",
       " 'Madrid': ['MAD@1', 'XTI', 'XOC', 'TOJ', 'MAD'],\n",
       " 'M\\xc3\\xa1laga': ['AGP@1', 'AGP']}"
      ]
     },
     "execution_count": 27,
     "metadata": {},
     "output_type": "execute_result"
    }
   ],
   "source": [
    "city2iatas = {}\n",
    "city2iatas['Málaga'] = [ iata for score,iata in malaga_iatas if score>=0.9 ]\n",
    "city2iatas['Madrid'] = [ iata for score,iata in madrid_iatas if score>=0.9 ]\n",
    "city2iatas['Barcelona'] = [ iata for score,iata in barcelona_iatas if score>=0.9 ]\n",
    "city2iatas"
   ]
  },
  {
   "cell_type": "markdown",
   "metadata": {},
   "source": [
    "## Fourth exercise: match searches with bookings\n",
    "\n",
    "For every search in the searches file, find out whether the search ended up in a booking or not \n",
    "(using the info in the bookings file). For instance, search and booking origin and destination \n",
    "should match. \n",
    "For the bookings file, origin and destination are the columns dep_port and arr_port, respectively. \n",
    "Generate a CSV file with the search data, and an additional field, containing 1 if the search \n",
    "ended up in a booking, and 0 otherwise.\n",
    "\n",
    "Bonus point: Solving this problem using pandas (instead of any other approach)"
   ]
  },
  {
   "cell_type": "code",
   "execution_count": null,
   "metadata": {
    "collapsed": true
   },
   "outputs": [],
   "source": []
  },
  {
   "cell_type": "markdown",
   "metadata": {},
   "source": [
    "## Bonus exercise: write a Web Service\n",
    "\n",
    "Wrap the output of the second exercise in a web service that returns the data in JSON format (instead of printing to the standard output). The web service should accept a parameter n>0. For the top 10 airports, n is 10. For the X top airports, n is X.”\n"
   ]
  }
 ],
 "metadata": {
  "kernelspec": {
   "display_name": "Python 2",
   "language": "python",
   "name": "python2"
  },
  "language_info": {
   "codemirror_mode": {
    "name": "ipython",
    "version": 2
   },
   "file_extension": ".py",
   "mimetype": "text/x-python",
   "name": "python",
   "nbconvert_exporter": "python",
   "pygments_lexer": "ipython2",
   "version": "2.7.6"
  }
 },
 "nbformat": 4,
 "nbformat_minor": 0
}
